{
 "cells": [
  {
   "cell_type": "code",
   "execution_count": 3,
   "metadata": {},
   "outputs": [],
   "source": [
    "import pandas as pd\n",
    "import numpy as np"
   ]
  },
  {
   "cell_type": "code",
   "execution_count": 5,
   "metadata": {},
   "outputs": [],
   "source": [
    "def join_df(df, df_roberta):\n",
    "    df = df.set_index('id')\n",
    "    df_roberta = df_roberta[['id', 'roberta_embedding']].set_index('id')\n",
    "    df = df.join(df_roberta, how='outer', lsuffix='')\n",
    "    return df"
   ]
  },
  {
   "cell_type": "code",
   "execution_count": 9,
   "metadata": {},
   "outputs": [],
   "source": [
    "df_roberta = pd.read_csv('../processed_embeddings/val_es_roberta.csv', sep=';', encoding='utf-8')\n",
    "df = pd.read_csv('../processed_embeddings/val_es.csv', sep=';', encoding='utf-8')\n",
    "\n",
    "df_def = join_df(df, df_roberta)\n",
    "df_def.to_csv('../processed_embeddings/val_es_def.csv', sep=';', encoding='utf-8', index=True)\n"
   ]
  },
  {
   "cell_type": "code",
   "execution_count": null,
   "metadata": {},
   "outputs": [],
   "source": [
    "df = pd.read_csv()"
   ]
  }
 ],
 "metadata": {
  "kernelspec": {
   "display_name": "env",
   "language": "python",
   "name": "python3"
  },
  "language_info": {
   "codemirror_mode": {
    "name": "ipython",
    "version": 3
   },
   "file_extension": ".py",
   "mimetype": "text/x-python",
   "name": "python",
   "nbconvert_exporter": "python",
   "pygments_lexer": "ipython3",
   "version": "3.9.13"
  }
 },
 "nbformat": 4,
 "nbformat_minor": 2
}
