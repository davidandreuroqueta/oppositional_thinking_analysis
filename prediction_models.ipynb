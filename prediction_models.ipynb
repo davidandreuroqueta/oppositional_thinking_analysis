{
 "cells": [
  {
   "cell_type": "code",
   "execution_count": 1,
   "metadata": {},
   "outputs": [],
   "source": [
    "import pandas as pd\n",
    "from sklearn.linear_model import LogisticRegression\n",
    "from sklearn.metrics import matthews_corrcoef\n",
    "from sklearn.model_selection import GridSearchCV\n",
    "from sklearn.metrics import make_scorer, matthews_corrcoef\n",
    "from sklearn.base import BaseEstimator\n",
    "from sklearn.tree import DecisionTreeClassifier\n",
    "from sklearn import svm\n",
    "from xgboost import XGBClassifier\n",
    "from sklearn.preprocessing import StandardScaler\n",
    "from sklearn.pipeline import make_pipeline\n",
    "from sklearn.svm import SVC\n",
    "from sklearn.ensemble import StackingClassifier"
   ]
  },
  {
   "cell_type": "code",
   "execution_count": 2,
   "metadata": {},
   "outputs": [],
   "source": [
    "X_train_english = pd.read_csv(\"./processed_embeddings/train_en.csv\", sep=';')\n",
    "y_val_english = pd.read_csv(\"./processed_embeddings/val_en.csv\", sep=';')\n",
    "\n",
    "\n",
    "X_train_spanish = pd.read_csv(\"./processed_embeddings/train_es.csv\", sep=';')\n",
    "y_val_spanish = pd.read_csv(\"./processed_embeddings/val_es.csv\", sep=';')"
   ]
  },
  {
   "cell_type": "code",
   "execution_count": 3,
   "metadata": {},
   "outputs": [],
   "source": [
    "def convert_string_to_list(string):\n",
    "    try:\n",
    "        # Primero eliminamos los corchetes y dividimos la cadena por espacios\n",
    "        clean_str = string.strip('[]')\n",
    "        # Luego dividimos por espacios y convertimos cada elemento en un float\n",
    "        num_list = [float(item) for item in clean_str.split() if item]\n",
    "        return num_list\n",
    "    except:\n",
    "        # En caso de un error, retornamos NaN para identificar fácilmente el problema\n",
    "        return np.nan"
   ]
  },
  {
   "cell_type": "code",
   "execution_count": 4,
   "metadata": {},
   "outputs": [],
   "source": [
    "# Aplicar esta función a cada elemento en la columna de embedding\n",
    "X_train_english['lsa_embedding'] = X_train_english['lsa_embedding'].apply(convert_string_to_list)\n",
    "y_val_english['lsa_embedding'] = y_val_english['lsa_embedding'].apply(convert_string_to_list)\n",
    "\n",
    "# Aplicar esta función a cada elemento en la columna de embedding\n",
    "X_train_english['fasttext_embeeding'] = X_train_english['fasttext_embeeding'].apply(convert_string_to_list)\n",
    "y_val_english['fasttext_embeeding'] = y_val_english['fasttext_embeeding'].apply(convert_string_to_list)\n",
    "\n",
    "# Aplicar esta función a cada elemento en la columna de embedding\n",
    "X_train_english['roberta_embedding'] = X_train_english['roberta_embedding'].apply(convert_string_to_list)\n",
    "y_val_english['roberta_embedding'] = y_val_english['roberta_embedding'].apply(convert_string_to_list)"
   ]
  },
  {
   "cell_type": "code",
   "execution_count": 5,
   "metadata": {},
   "outputs": [],
   "source": [
    "# Aplicar esta función a cada elemento en la columna de embedding\n",
    "X_train_spanish['lsa_embedding'] = X_train_spanish['lsa_embedding'].apply(convert_string_to_list)\n",
    "y_val_spanish['lsa_embedding'] = y_val_spanish['lsa_embedding'].apply(convert_string_to_list)\n",
    "\n",
    "# Aplicar esta función a cada elemento en la columna de embedding\n",
    "X_train_spanish['fasttext_embeeding'] = X_train_spanish['fasttext_embeeding'].apply(convert_string_to_list)\n",
    "y_val_spanish['fasttext_embeeding'] = y_val_spanish['fasttext_embeeding'].apply(convert_string_to_list)\n",
    "\n",
    "# Aplicar esta función a cada elemento en la columna de embedding\n",
    "X_train_spanish['roberta_embedding'] = X_train_spanish['roberta_embedding'].apply(convert_string_to_list)\n",
    "y_val_spanish['roberta_embedding'] = y_val_spanish['roberta_embedding'].apply(convert_string_to_list)"
   ]
  },
  {
   "cell_type": "code",
   "execution_count": 6,
   "metadata": {},
   "outputs": [],
   "source": [
    "X_train_en_lsa_embeddings = pd.DataFrame(X_train_english['lsa_embedding'].tolist())\n",
    "X_train_en_fasttext_embeeding = pd.DataFrame(X_train_english['fasttext_embeeding'].tolist()) \n",
    "X_train_en_roberta_embedding = pd.DataFrame(X_train_english['roberta_embedding'].tolist()) \n",
    "y_train_en = X_train_english['label']\n",
    "\n",
    "X_val_en_lsa_embeddings = pd.DataFrame(y_val_english['lsa_embedding'].tolist())\n",
    "X_val_en_fasttext_embeeding = pd.DataFrame(y_val_english['fasttext_embeeding'].tolist()) \n",
    "X_val_en_roberta_embedding = pd.DataFrame(y_val_english['roberta_embedding'].tolist()) \n",
    "y_val_en = y_val_english['label']"
   ]
  },
  {
   "cell_type": "code",
   "execution_count": 7,
   "metadata": {},
   "outputs": [],
   "source": [
    "X_train_es_lsa_embeddings = pd.DataFrame(X_train_spanish['lsa_embedding'].tolist())\n",
    "X_train_es_fasttext_embeeding = pd.DataFrame(X_train_spanish['fasttext_embeeding'].tolist()) \n",
    "X_train_es_roberta_embedding = pd.DataFrame(X_train_spanish['roberta_embedding'].tolist()) \n",
    "y_train_es = X_train_spanish['label']\n",
    "\n",
    "X_val_es_lsa_embeddings = pd.DataFrame(y_val_spanish['lsa_embedding'].tolist())\n",
    "X_val_es_fasttext_embeeding = pd.DataFrame(y_val_spanish['fasttext_embeeding'].tolist()) \n",
    "X_val_es_roberta_embedding = pd.DataFrame(y_val_spanish['roberta_embedding'].tolist()) \n",
    "y_val_es = y_val_spanish['label']"
   ]
  },
  {
   "cell_type": "code",
   "execution_count": 8,
   "metadata": {},
   "outputs": [],
   "source": [
    "def run_grid_search_and_print_mcc(model, X_train, y_train, X_test, y_test, param_grid, scoring, name, lang, cv=5):\n",
    "    \"\"\"\n",
    "    Realiza una búsqueda de hiperparámetros usando GridSearchCV para cualquier modelo y \n",
    "    imprime el coeficiente de correlación de Matthews para el conjunto de prueba.\n",
    "\n",
    "    Args:\n",
    "    model (BaseEstimator): Modelo de scikit-learn para entrenar.\n",
    "    X_train (array-like): Datos de entrenamiento características.\n",
    "    y_train (array-like): Datos de entrenamiento etiquetas.\n",
    "    X_test (array-like): Datos de prueba características.\n",
    "    y_test (array-like): Datos de prueba etiquetas.\n",
    "    param_grid (dict): Diccionario con parámetros para probar en el modelo.\n",
    "    scoring (callable): Función de puntuación para evaluar los modelos.\n",
    "    cv (int): Número de divisiones de validación cruzada.\n",
    "    \"\"\"\n",
    "    # Crea un objeto GridSearchCV con el modelo y los parámetros dados\n",
    "    grid_search = GridSearchCV(model, param_grid, cv=cv, scoring=scoring)\n",
    "    \n",
    "    # Entrena GridSearchCV con los datos de entrenamiento\n",
    "    grid_search.fit(X_train, y_train)\n",
    "    \n",
    "    # Utiliza el mejor modelo para hacer predicciones en el conjunto de prueba\n",
    "    best_clf = grid_search.best_estimator_\n",
    "    predicted = best_clf.predict(X_test)\n",
    "    \n",
    "    # Calcula el MCC usando las etiquetas verdaderas y las predicciones\n",
    "    mcc_score = matthews_corrcoef(y_test, predicted)\n",
    "    \n",
    "    # Imprime el MCC\n",
    "    print(f\"Matthews Correlation Coefficient (MCC) for the embedding {name} in {lang}:\", mcc_score)\n",
    "    \n",
    "    return grid_search.best_params_"
   ]
  },
  {
   "cell_type": "markdown",
   "metadata": {},
   "source": [
    "### LOGISTIC REGRESSION"
   ]
  },
  {
   "cell_type": "code",
   "execution_count": 9,
   "metadata": {},
   "outputs": [],
   "source": [
    "import warnings\n",
    "from sklearn.exceptions import ConvergenceWarning\n",
    "\n",
    "# Ignorar FutureWarning y ConvergenceWarning específicos de scikit-learn\n",
    "warnings.filterwarnings('ignore', category=FutureWarning, module='sklearn')\n",
    "warnings.filterwarnings('ignore', category=ConvergenceWarning, module='sklearn')"
   ]
  },
  {
   "cell_type": "code",
   "execution_count": 10,
   "metadata": {},
   "outputs": [],
   "source": [
    "lang_es = \"spanish\"\n",
    "lang_en = \"english\"\n",
    "\n",
    "lsa = \"LSA\"\n",
    "fastext = \"Fasttext\"\n",
    "roberta = \"Roberta\""
   ]
  },
  {
   "cell_type": "code",
   "execution_count": 11,
   "metadata": {},
   "outputs": [],
   "source": [
    "# Define los grupos de parámetros válidos\n",
    "param_grid = [\n",
    "    {'solver': ['liblinear', 'saga'], 'penalty': ['l1', 'l2'], 'C': [0.001, 0.01, 0.1, 1, 10, 100]},\n",
    "    {'solver': ['newton-cg', 'lbfgs', 'sag'], 'penalty': ['l2'], 'C': [0.001, 0.01, 0.1, 1, 10, 100]},\n",
    "    {'solver': ['saga'], 'penalty': ['none'], 'C': [1]}  # `C` es irrelevante para 'none' pero debe incluirse\n",
    "]\n",
    "scorer = make_scorer(matthews_corrcoef)"
   ]
  },
  {
   "cell_type": "code",
   "execution_count": 12,
   "metadata": {},
   "outputs": [
    {
     "name": "stdout",
     "output_type": "stream",
     "text": [
      "Matthews Correlation Coefficient (MCC) for the embedding LSA in english: 0.6582930253968028\n",
      "Matthews Correlation Coefficient (MCC) for the embedding Fasttext in english: 0.669558107154059\n",
      "Matthews Correlation Coefficient (MCC) for the embedding Roberta in english: 0.7175062291658645\n"
     ]
    }
   ],
   "source": [
    "hiper_log_lsa = run_grid_search_and_print_mcc(LogisticRegression(), X_train_en_lsa_embeddings, \n",
    "                              y_train_en, X_val_en_lsa_embeddings, y_val_en, param_grid, scorer, lsa, lang_en)\n",
    "hiper_log_fast = run_grid_search_and_print_mcc(LogisticRegression(), X_train_en_fasttext_embeeding, \n",
    "                              y_train_en, X_val_en_fasttext_embeeding, y_val_en, param_grid, scorer, fastext, lang_en)\n",
    "hiper_log_robert = run_grid_search_and_print_mcc(LogisticRegression(), X_train_en_roberta_embedding, \n",
    "                              y_train_en, X_val_en_roberta_embedding, y_val_en, param_grid, scorer, roberta, lang_en)"
   ]
  },
  {
   "cell_type": "code",
   "execution_count": 13,
   "metadata": {},
   "outputs": [
    {
     "data": {
      "text/plain": [
       "{'C': 10, 'penalty': 'l1', 'solver': 'liblinear'}"
      ]
     },
     "execution_count": 13,
     "metadata": {},
     "output_type": "execute_result"
    }
   ],
   "source": [
    "hiper_log_lsa"
   ]
  },
  {
   "cell_type": "code",
   "execution_count": 14,
   "metadata": {},
   "outputs": [
    {
     "data": {
      "text/plain": [
       "{'C': 100, 'penalty': 'l2', 'solver': 'saga'}"
      ]
     },
     "execution_count": 14,
     "metadata": {},
     "output_type": "execute_result"
    }
   ],
   "source": [
    "hiper_log_fast"
   ]
  },
  {
   "cell_type": "code",
   "execution_count": 15,
   "metadata": {},
   "outputs": [
    {
     "data": {
      "text/plain": [
       "{'C': 10, 'penalty': 'l2', 'solver': 'newton-cg'}"
      ]
     },
     "execution_count": 15,
     "metadata": {},
     "output_type": "execute_result"
    }
   ],
   "source": [
    "hiper_log_robert"
   ]
  },
  {
   "cell_type": "code",
   "execution_count": 16,
   "metadata": {},
   "outputs": [
    {
     "name": "stdout",
     "output_type": "stream",
     "text": [
      "Matthews Correlation Coefficient (MCC) for the embedding LSA in spanish: 0.5556823194048562\n",
      "Matthews Correlation Coefficient (MCC) for the embedding Fasttext in spanish: 0.4399942969754765\n",
      "Matthews Correlation Coefficient (MCC) for the embedding Roberta in spanish: 0.49269777147660165\n"
     ]
    }
   ],
   "source": [
    "hiper_log_lsa_es = run_grid_search_and_print_mcc(LogisticRegression(), X_train_es_lsa_embeddings, \n",
    "                              y_train_es, X_val_es_lsa_embeddings, y_val_es, param_grid, scorer, lsa, lang_es)\n",
    "hiper_log_fast_es = run_grid_search_and_print_mcc(LogisticRegression(), X_train_es_fasttext_embeeding, \n",
    "                              y_train_es, X_val_es_fasttext_embeeding, y_val_es, param_grid, scorer, fastext, lang_es)\n",
    "hiper_log_robert_es = run_grid_search_and_print_mcc(LogisticRegression(), X_train_es_roberta_embedding, \n",
    "                              y_train_es, X_val_es_roberta_embedding, y_val_es, param_grid, scorer, roberta, lang_es)"
   ]
  },
  {
   "cell_type": "code",
   "execution_count": 17,
   "metadata": {},
   "outputs": [
    {
     "data": {
      "text/plain": [
       "{'C': 10, 'penalty': 'l2', 'solver': 'liblinear'}"
      ]
     },
     "execution_count": 17,
     "metadata": {},
     "output_type": "execute_result"
    }
   ],
   "source": [
    "hiper_log_lsa_es"
   ]
  },
  {
   "cell_type": "code",
   "execution_count": 18,
   "metadata": {},
   "outputs": [
    {
     "data": {
      "text/plain": [
       "{'C': 100, 'penalty': 'l2', 'solver': 'lbfgs'}"
      ]
     },
     "execution_count": 18,
     "metadata": {},
     "output_type": "execute_result"
    }
   ],
   "source": [
    "hiper_log_fast_es"
   ]
  },
  {
   "cell_type": "code",
   "execution_count": 19,
   "metadata": {},
   "outputs": [
    {
     "data": {
      "text/plain": [
       "{'C': 10, 'penalty': 'l2', 'solver': 'newton-cg'}"
      ]
     },
     "execution_count": 19,
     "metadata": {},
     "output_type": "execute_result"
    }
   ],
   "source": [
    "hiper_log_robert_es"
   ]
  },
  {
   "cell_type": "markdown",
   "metadata": {},
   "source": [
    "### SVC"
   ]
  },
  {
   "cell_type": "code",
   "execution_count": 11,
   "metadata": {},
   "outputs": [],
   "source": [
    "# Define los hiperparámetros que quieres probar\n",
    "param_grid = {\n",
    "    'kernel': ['linear', 'poly', 'rbf', 'sigmoid'],  # Tipo de kernel\n",
    "    'C': [0.1, 1, 10, 100],  # Parámetro de regularización\n",
    "}\n",
    "\n",
    "scorer = make_scorer(matthews_corrcoef,sample_weight=None)"
   ]
  },
  {
   "cell_type": "code",
   "execution_count": 12,
   "metadata": {},
   "outputs": [
    {
     "name": "stdout",
     "output_type": "stream",
     "text": [
      "Matthews Correlation Coefficient (MCC) for the embedding LSA in english: 0.6525402876390591\n",
      "Matthews Correlation Coefficient (MCC) for the embedding Fasttext in english: 0.6667374826170468\n",
      "Matthews Correlation Coefficient (MCC) for the embedding Roberta in english: 0.7146855973480196\n"
     ]
    }
   ],
   "source": [
    "hiper_svc_lsa = run_grid_search_and_print_mcc(svm.SVC(), X_train_en_lsa_embeddings, \n",
    "                              y_train_en, X_val_en_lsa_embeddings, y_val_en, param_grid, scorer, lsa, lang_en)\n",
    "hiper_svc_fast = run_grid_search_and_print_mcc(svm.SVC(), X_train_en_fasttext_embeeding, \n",
    "                              y_train_en, X_val_en_fasttext_embeeding, y_val_en, param_grid, scorer, fastext, lang_en)\n",
    "hiper_svc_robert = run_grid_search_and_print_mcc(svm.SVC(), X_train_en_roberta_embedding, \n",
    "                              y_train_en, X_val_en_roberta_embedding, y_val_en, param_grid, scorer, roberta, lang_en)"
   ]
  },
  {
   "cell_type": "code",
   "execution_count": 13,
   "metadata": {},
   "outputs": [
    {
     "data": {
      "text/plain": [
       "{'C': 10, 'kernel': 'linear'}"
      ]
     },
     "execution_count": 13,
     "metadata": {},
     "output_type": "execute_result"
    }
   ],
   "source": [
    "hiper_svc_lsa"
   ]
  },
  {
   "cell_type": "code",
   "execution_count": 14,
   "metadata": {},
   "outputs": [
    {
     "data": {
      "text/plain": [
       "{'C': 10, 'kernel': 'rbf'}"
      ]
     },
     "execution_count": 14,
     "metadata": {},
     "output_type": "execute_result"
    }
   ],
   "source": [
    "hiper_svc_fast"
   ]
  },
  {
   "cell_type": "code",
   "execution_count": 15,
   "metadata": {},
   "outputs": [
    {
     "data": {
      "text/plain": [
       "{'C': 10, 'kernel': 'linear'}"
      ]
     },
     "execution_count": 15,
     "metadata": {},
     "output_type": "execute_result"
    }
   ],
   "source": [
    "hiper_svc_robert"
   ]
  },
  {
   "cell_type": "code",
   "execution_count": 16,
   "metadata": {},
   "outputs": [
    {
     "name": "stdout",
     "output_type": "stream",
     "text": [
      "Matthews Correlation Coefficient (MCC) for the embedding LSA in spanish: 0.5528023059760292\n",
      "Matthews Correlation Coefficient (MCC) for the embedding Fasttext in spanish: 0.4520701518033282\n",
      "Matthews Correlation Coefficient (MCC) for the embedding Roberta in spanish: 0.5188058664764762\n"
     ]
    }
   ],
   "source": [
    "hiper_svc_lsa_es = run_grid_search_and_print_mcc(svm.SVC(), X_train_es_lsa_embeddings, \n",
    "                              y_train_es, X_val_es_lsa_embeddings, y_val_es, param_grid, scorer, lsa, lang_es)\n",
    "hiper_svc_fast_es = run_grid_search_and_print_mcc(svm.SVC(), X_train_es_fasttext_embeeding, \n",
    "                              y_train_es, X_val_es_fasttext_embeeding, y_val_es, param_grid, scorer, fastext, lang_es)\n",
    "hiper_svc_robert_es = run_grid_search_and_print_mcc(svm.SVC(), X_train_es_roberta_embedding, \n",
    "                              y_train_es, X_val_es_roberta_embedding, y_val_es, param_grid, scorer, roberta, lang_es)"
   ]
  },
  {
   "cell_type": "code",
   "execution_count": 17,
   "metadata": {},
   "outputs": [
    {
     "data": {
      "text/plain": [
       "{'C': 1, 'kernel': 'rbf'}"
      ]
     },
     "execution_count": 17,
     "metadata": {},
     "output_type": "execute_result"
    }
   ],
   "source": [
    "hiper_svc_lsa_es"
   ]
  },
  {
   "cell_type": "code",
   "execution_count": 18,
   "metadata": {},
   "outputs": [
    {
     "data": {
      "text/plain": [
       "{'C': 10, 'kernel': 'rbf'}"
      ]
     },
     "execution_count": 18,
     "metadata": {},
     "output_type": "execute_result"
    }
   ],
   "source": [
    "hiper_svc_fast_es"
   ]
  },
  {
   "cell_type": "code",
   "execution_count": 19,
   "metadata": {},
   "outputs": [
    {
     "data": {
      "text/plain": [
       "{'C': 100, 'kernel': 'poly'}"
      ]
     },
     "execution_count": 19,
     "metadata": {},
     "output_type": "execute_result"
    }
   ],
   "source": [
    "hiper_svc_robert_es"
   ]
  },
  {
   "cell_type": "markdown",
   "metadata": {},
   "source": [
    "### DECISION TREES"
   ]
  },
  {
   "cell_type": "code",
   "execution_count": 20,
   "metadata": {},
   "outputs": [],
   "source": [
    "# Definir el espacio de parámetros\n",
    "param_grid = {\n",
    "    'criterion': ['gini', 'entropy'],\n",
    "    'max_depth': [10, 20, 30],\n",
    "    'min_samples_split': [2, 10, 20],\n",
    "    'min_samples_leaf': [1, 5, 10],\n",
    "    'max_features': ['sqrt', 'log2']\n",
    "}\n",
    "\n",
    "scorer = make_scorer(matthews_corrcoef,sample_weight=None)"
   ]
  },
  {
   "cell_type": "code",
   "execution_count": 21,
   "metadata": {},
   "outputs": [
    {
     "name": "stdout",
     "output_type": "stream",
     "text": [
      "Matthews Correlation Coefficient (MCC) for the embedding LSA in english: 0.37208900678431023\n",
      "Matthews Correlation Coefficient (MCC) for the embedding Fasttext in english: 0.35858640814772186\n",
      "Matthews Correlation Coefficient (MCC) for the embedding Roberta in english: 0.38178136281691333\n"
     ]
    }
   ],
   "source": [
    "hiper_tree_lsa = run_grid_search_and_print_mcc(DecisionTreeClassifier(), X_train_en_lsa_embeddings, \n",
    "                              y_train_en, X_val_en_lsa_embeddings, y_val_en, param_grid, scorer, lsa, lang_en)\n",
    "hiper_tree_fast = run_grid_search_and_print_mcc(DecisionTreeClassifier(), X_train_en_fasttext_embeeding, \n",
    "                              y_train_en, X_val_en_fasttext_embeeding, y_val_en, param_grid, scorer, fastext, lang_en)\n",
    "hiper_tree_robert = run_grid_search_and_print_mcc(DecisionTreeClassifier(), X_train_en_roberta_embedding, \n",
    "                              y_train_en, X_val_en_roberta_embedding, y_val_en, param_grid, scorer, roberta, lang_en)"
   ]
  },
  {
   "cell_type": "code",
   "execution_count": 22,
   "metadata": {},
   "outputs": [
    {
     "data": {
      "text/plain": [
       "{'criterion': 'entropy',\n",
       " 'max_depth': 10,\n",
       " 'max_features': 'sqrt',\n",
       " 'min_samples_leaf': 1,\n",
       " 'min_samples_split': 2}"
      ]
     },
     "execution_count": 22,
     "metadata": {},
     "output_type": "execute_result"
    }
   ],
   "source": [
    "hiper_tree_lsa"
   ]
  },
  {
   "cell_type": "code",
   "execution_count": 23,
   "metadata": {},
   "outputs": [
    {
     "data": {
      "text/plain": [
       "{'criterion': 'gini',\n",
       " 'max_depth': 30,\n",
       " 'max_features': 'sqrt',\n",
       " 'min_samples_leaf': 5,\n",
       " 'min_samples_split': 20}"
      ]
     },
     "execution_count": 23,
     "metadata": {},
     "output_type": "execute_result"
    }
   ],
   "source": [
    "hiper_tree_fast"
   ]
  },
  {
   "cell_type": "code",
   "execution_count": 24,
   "metadata": {},
   "outputs": [
    {
     "data": {
      "text/plain": [
       "{'criterion': 'entropy',\n",
       " 'max_depth': 30,\n",
       " 'max_features': 'sqrt',\n",
       " 'min_samples_leaf': 10,\n",
       " 'min_samples_split': 20}"
      ]
     },
     "execution_count": 24,
     "metadata": {},
     "output_type": "execute_result"
    }
   ],
   "source": [
    "hiper_tree_robert"
   ]
  },
  {
   "cell_type": "code",
   "execution_count": 25,
   "metadata": {},
   "outputs": [
    {
     "name": "stdout",
     "output_type": "stream",
     "text": [
      "Matthews Correlation Coefficient (MCC) for the embedding LSA in spanish: 0.2430080172058709\n",
      "Matthews Correlation Coefficient (MCC) for the embedding Fasttext in spanish: 0.1376497024564274\n",
      "Matthews Correlation Coefficient (MCC) for the embedding Roberta in spanish: 0.31627695149055063\n"
     ]
    }
   ],
   "source": [
    "hiper_tree_lsa_es = run_grid_search_and_print_mcc(DecisionTreeClassifier(), X_train_es_lsa_embeddings, \n",
    "                              y_train_es, X_val_es_lsa_embeddings, y_val_es, param_grid, scorer, lsa, lang_es)\n",
    "hiper_tree_fast_es = run_grid_search_and_print_mcc(DecisionTreeClassifier(), X_train_es_fasttext_embeeding, \n",
    "                              y_train_es, X_val_es_fasttext_embeeding, y_val_es, param_grid, scorer, fastext, lang_es)\n",
    "hiper_tree_robert_es = run_grid_search_and_print_mcc(DecisionTreeClassifier(), X_train_es_roberta_embedding, \n",
    "                              y_train_es, X_val_es_roberta_embedding, y_val_es, param_grid, scorer, roberta, lang_es)"
   ]
  },
  {
   "cell_type": "code",
   "execution_count": 26,
   "metadata": {},
   "outputs": [
    {
     "data": {
      "text/plain": [
       "{'criterion': 'entropy',\n",
       " 'max_depth': 10,\n",
       " 'max_features': 'sqrt',\n",
       " 'min_samples_leaf': 5,\n",
       " 'min_samples_split': 10}"
      ]
     },
     "execution_count": 26,
     "metadata": {},
     "output_type": "execute_result"
    }
   ],
   "source": [
    "hiper_tree_lsa_es"
   ]
  },
  {
   "cell_type": "code",
   "execution_count": 27,
   "metadata": {},
   "outputs": [
    {
     "data": {
      "text/plain": [
       "{'criterion': 'entropy',\n",
       " 'max_depth': 10,\n",
       " 'max_features': 'sqrt',\n",
       " 'min_samples_leaf': 5,\n",
       " 'min_samples_split': 20}"
      ]
     },
     "execution_count": 27,
     "metadata": {},
     "output_type": "execute_result"
    }
   ],
   "source": [
    "hiper_tree_fast_es"
   ]
  },
  {
   "cell_type": "code",
   "execution_count": 28,
   "metadata": {},
   "outputs": [
    {
     "data": {
      "text/plain": [
       "{'criterion': 'entropy',\n",
       " 'max_depth': 10,\n",
       " 'max_features': 'sqrt',\n",
       " 'min_samples_leaf': 10,\n",
       " 'min_samples_split': 2}"
      ]
     },
     "execution_count": 28,
     "metadata": {},
     "output_type": "execute_result"
    }
   ],
   "source": [
    "hiper_tree_robert_es"
   ]
  },
  {
   "cell_type": "markdown",
   "metadata": {},
   "source": [
    "### STACKING"
   ]
  },
  {
   "cell_type": "code",
   "execution_count": 29,
   "metadata": {},
   "outputs": [
    {
     "name": "stdout",
     "output_type": "stream",
     "text": [
      "Matthews Correlation Coefficient (MCC) of Stacking Classifier: 0.6809691909977089\n"
     ]
    }
   ],
   "source": [
    "# Definir los clasificadores base\n",
    "estimators = [ ('svc', make_pipeline(StandardScaler(), SVC(probability=True))), \n",
    "              ('lr', LogisticRegression()), ('dt', DecisionTreeClassifier()) ]\n",
    "\n",
    "# Definir el meta-clasificador\n",
    "clf = StackingClassifier(estimators=estimators, final_estimator=LogisticRegression(), cv=5 )\n",
    "\n",
    "clf.fit(X_train_en_lsa_embeddings, y_train_en)\n",
    "y_pred = clf.predict(X_val_en_lsa_embeddings)\n",
    "mcc = matthews_corrcoef(y_val_en, y_pred)\n",
    "print(f\"Matthews Correlation Coefficient (MCC) of Stacking Classifier:\", mcc)"
   ]
  },
  {
   "cell_type": "code",
   "execution_count": 30,
   "metadata": {},
   "outputs": [
    {
     "name": "stdout",
     "output_type": "stream",
     "text": [
      "Hiperparámetros del estimador base 'svc':\n",
      "{'memory': None, 'steps': [('standardscaler', StandardScaler()), ('svc', SVC(probability=True))], 'verbose': False, 'standardscaler': StandardScaler(), 'svc': SVC(probability=True), 'standardscaler__copy': True, 'standardscaler__with_mean': True, 'standardscaler__with_std': True, 'svc__C': 1.0, 'svc__break_ties': False, 'svc__cache_size': 200, 'svc__class_weight': None, 'svc__coef0': 0.0, 'svc__decision_function_shape': 'ovr', 'svc__degree': 3, 'svc__gamma': 'scale', 'svc__kernel': 'rbf', 'svc__max_iter': -1, 'svc__probability': True, 'svc__random_state': None, 'svc__shrinking': True, 'svc__tol': 0.001, 'svc__verbose': False}\n",
      "Hiperparámetros del estimador base 'lr':\n",
      "{'C': 1.0, 'class_weight': None, 'dual': False, 'fit_intercept': True, 'intercept_scaling': 1, 'l1_ratio': None, 'max_iter': 100, 'multi_class': 'auto', 'n_jobs': None, 'penalty': 'l2', 'random_state': None, 'solver': 'lbfgs', 'tol': 0.0001, 'verbose': 0, 'warm_start': False}\n",
      "Hiperparámetros del estimador base 'dt':\n",
      "{'ccp_alpha': 0.0, 'class_weight': None, 'criterion': 'gini', 'max_depth': None, 'max_features': None, 'max_leaf_nodes': None, 'min_impurity_decrease': 0.0, 'min_samples_leaf': 1, 'min_samples_split': 2, 'min_weight_fraction_leaf': 0.0, 'random_state': None, 'splitter': 'best'}\n",
      "Hiperparámetros del estimador final:\n",
      "{'C': 1.0, 'class_weight': None, 'dual': False, 'fit_intercept': True, 'intercept_scaling': 1, 'l1_ratio': None, 'max_iter': 100, 'multi_class': 'auto', 'n_jobs': None, 'penalty': 'l2', 'random_state': None, 'solver': 'lbfgs', 'tol': 0.0001, 'verbose': 0, 'warm_start': False}\n"
     ]
    }
   ],
   "source": [
    "# Obtener los hiperparámetros de los estimadores base\n",
    "for name, estimator in clf.named_estimators_.items():\n",
    "    print(f\"Hiperparámetros del estimador base '{name}':\")\n",
    "    print(estimator.get_params())\n",
    "\n",
    "# Obtener los hiperparámetros del estimador final\n",
    "print(\"Hiperparámetros del estimador final:\")\n",
    "print(clf.final_estimator_.get_params())"
   ]
  },
  {
   "cell_type": "code",
   "execution_count": 31,
   "metadata": {},
   "outputs": [
    {
     "name": "stdout",
     "output_type": "stream",
     "text": [
      "Matthews Correlation Coefficient (MCC) of Stacking Classifier: 0.6611548400972423\n"
     ]
    }
   ],
   "source": [
    "# Definir los clasificadores base\n",
    "estimators = [ ('svc', make_pipeline(StandardScaler(), SVC(probability=True))), \n",
    "              ('lr', LogisticRegression()), ('dt', DecisionTreeClassifier()) ]\n",
    "\n",
    "# Definir el meta-clasificador\n",
    "clf = StackingClassifier(estimators=estimators, final_estimator=LogisticRegression(), cv=5 )\n",
    "\n",
    "clf.fit(X_train_en_fasttext_embeeding, y_train_en)\n",
    "y_pred = clf.predict(X_val_en_fasttext_embeeding)\n",
    "mcc = matthews_corrcoef(y_val_en, y_pred)\n",
    "print(f\"Matthews Correlation Coefficient (MCC) of Stacking Classifier:\", mcc)"
   ]
  },
  {
   "cell_type": "code",
   "execution_count": 32,
   "metadata": {},
   "outputs": [
    {
     "name": "stdout",
     "output_type": "stream",
     "text": [
      "Hiperparámetros del estimador base 'svc':\n",
      "{'memory': None, 'steps': [('standardscaler', StandardScaler()), ('svc', SVC(probability=True))], 'verbose': False, 'standardscaler': StandardScaler(), 'svc': SVC(probability=True), 'standardscaler__copy': True, 'standardscaler__with_mean': True, 'standardscaler__with_std': True, 'svc__C': 1.0, 'svc__break_ties': False, 'svc__cache_size': 200, 'svc__class_weight': None, 'svc__coef0': 0.0, 'svc__decision_function_shape': 'ovr', 'svc__degree': 3, 'svc__gamma': 'scale', 'svc__kernel': 'rbf', 'svc__max_iter': -1, 'svc__probability': True, 'svc__random_state': None, 'svc__shrinking': True, 'svc__tol': 0.001, 'svc__verbose': False}\n",
      "Hiperparámetros del estimador base 'lr':\n",
      "{'C': 1.0, 'class_weight': None, 'dual': False, 'fit_intercept': True, 'intercept_scaling': 1, 'l1_ratio': None, 'max_iter': 100, 'multi_class': 'auto', 'n_jobs': None, 'penalty': 'l2', 'random_state': None, 'solver': 'lbfgs', 'tol': 0.0001, 'verbose': 0, 'warm_start': False}\n",
      "Hiperparámetros del estimador base 'dt':\n",
      "{'ccp_alpha': 0.0, 'class_weight': None, 'criterion': 'gini', 'max_depth': None, 'max_features': None, 'max_leaf_nodes': None, 'min_impurity_decrease': 0.0, 'min_samples_leaf': 1, 'min_samples_split': 2, 'min_weight_fraction_leaf': 0.0, 'random_state': None, 'splitter': 'best'}\n",
      "Hiperparámetros del estimador final:\n",
      "{'C': 1.0, 'class_weight': None, 'dual': False, 'fit_intercept': True, 'intercept_scaling': 1, 'l1_ratio': None, 'max_iter': 100, 'multi_class': 'auto', 'n_jobs': None, 'penalty': 'l2', 'random_state': None, 'solver': 'lbfgs', 'tol': 0.0001, 'verbose': 0, 'warm_start': False}\n"
     ]
    }
   ],
   "source": [
    "# Obtener los hiperparámetros de los estimadores base\n",
    "for name, estimator in clf.named_estimators_.items():\n",
    "    print(f\"Hiperparámetros del estimador base '{name}':\")\n",
    "    print(estimator.get_params())\n",
    "\n",
    "# Obtener los hiperparámetros del estimador final\n",
    "print(\"Hiperparámetros del estimador final:\")\n",
    "print(clf.final_estimator_.get_params())"
   ]
  },
  {
   "cell_type": "code",
   "execution_count": 33,
   "metadata": {},
   "outputs": [
    {
     "name": "stdout",
     "output_type": "stream",
     "text": [
      "Matthews Correlation Coefficient (MCC) of Stacking Classifier: 0.7231480544883964\n"
     ]
    }
   ],
   "source": [
    "# Definir los clasificadores base\n",
    "estimators = [ ('svc', make_pipeline(StandardScaler(), SVC(probability=True))), \n",
    "              ('lr', LogisticRegression()), ('dt', DecisionTreeClassifier()) ]\n",
    "\n",
    "# Definir el meta-clasificador\n",
    "clf = StackingClassifier(estimators=estimators, final_estimator=LogisticRegression(), cv=5 )\n",
    "\n",
    "clf.fit(X_train_en_roberta_embedding, y_train_en)\n",
    "y_pred = clf.predict(X_val_en_roberta_embedding)\n",
    "mcc = matthews_corrcoef(y_val_en, y_pred)\n",
    "print(f\"Matthews Correlation Coefficient (MCC) of Stacking Classifier:\", mcc)"
   ]
  },
  {
   "cell_type": "code",
   "execution_count": 34,
   "metadata": {},
   "outputs": [
    {
     "name": "stdout",
     "output_type": "stream",
     "text": [
      "Hiperparámetros del estimador base 'svc':\n",
      "{'memory': None, 'steps': [('standardscaler', StandardScaler()), ('svc', SVC(probability=True))], 'verbose': False, 'standardscaler': StandardScaler(), 'svc': SVC(probability=True), 'standardscaler__copy': True, 'standardscaler__with_mean': True, 'standardscaler__with_std': True, 'svc__C': 1.0, 'svc__break_ties': False, 'svc__cache_size': 200, 'svc__class_weight': None, 'svc__coef0': 0.0, 'svc__decision_function_shape': 'ovr', 'svc__degree': 3, 'svc__gamma': 'scale', 'svc__kernel': 'rbf', 'svc__max_iter': -1, 'svc__probability': True, 'svc__random_state': None, 'svc__shrinking': True, 'svc__tol': 0.001, 'svc__verbose': False}\n",
      "Hiperparámetros del estimador base 'lr':\n",
      "{'C': 1.0, 'class_weight': None, 'dual': False, 'fit_intercept': True, 'intercept_scaling': 1, 'l1_ratio': None, 'max_iter': 100, 'multi_class': 'auto', 'n_jobs': None, 'penalty': 'l2', 'random_state': None, 'solver': 'lbfgs', 'tol': 0.0001, 'verbose': 0, 'warm_start': False}\n",
      "Hiperparámetros del estimador base 'dt':\n",
      "{'ccp_alpha': 0.0, 'class_weight': None, 'criterion': 'gini', 'max_depth': None, 'max_features': None, 'max_leaf_nodes': None, 'min_impurity_decrease': 0.0, 'min_samples_leaf': 1, 'min_samples_split': 2, 'min_weight_fraction_leaf': 0.0, 'random_state': None, 'splitter': 'best'}\n",
      "Hiperparámetros del estimador final:\n",
      "{'C': 1.0, 'class_weight': None, 'dual': False, 'fit_intercept': True, 'intercept_scaling': 1, 'l1_ratio': None, 'max_iter': 100, 'multi_class': 'auto', 'n_jobs': None, 'penalty': 'l2', 'random_state': None, 'solver': 'lbfgs', 'tol': 0.0001, 'verbose': 0, 'warm_start': False}\n"
     ]
    }
   ],
   "source": [
    "# Obtener los hiperparámetros de los estimadores base\n",
    "for name, estimator in clf.named_estimators_.items():\n",
    "    print(f\"Hiperparámetros del estimador base '{name}':\")\n",
    "    print(estimator.get_params())\n",
    "\n",
    "# Obtener los hiperparámetros del estimador final\n",
    "print(\"Hiperparámetros del estimador final:\")\n",
    "print(clf.final_estimator_.get_params())"
   ]
  },
  {
   "cell_type": "code",
   "execution_count": 35,
   "metadata": {},
   "outputs": [
    {
     "name": "stdout",
     "output_type": "stream",
     "text": [
      "Matthews Correlation Coefficient (MCC) of Stacking Classifier: 0.5419839227229034\n"
     ]
    }
   ],
   "source": [
    "# Definir los clasificadores base\n",
    "estimators = [ ('svc', make_pipeline(StandardScaler(), SVC(probability=True))), \n",
    "              ('lr', LogisticRegression()), ('dt', DecisionTreeClassifier()) ]\n",
    "\n",
    "# Definir el meta-clasificador\n",
    "clf = StackingClassifier(estimators=estimators, final_estimator=LogisticRegression(), cv=5 )\n",
    "\n",
    "clf.fit(X_train_es_lsa_embeddings, y_train_es)\n",
    "y_pred = clf.predict(X_val_es_lsa_embeddings)\n",
    "mcc = matthews_corrcoef(y_val_es, y_pred)\n",
    "print(f\"Matthews Correlation Coefficient (MCC) of Stacking Classifier:\",mcc)"
   ]
  },
  {
   "cell_type": "code",
   "execution_count": 36,
   "metadata": {},
   "outputs": [
    {
     "name": "stdout",
     "output_type": "stream",
     "text": [
      "Hiperparámetros del estimador base 'svc':\n",
      "{'memory': None, 'steps': [('standardscaler', StandardScaler()), ('svc', SVC(probability=True))], 'verbose': False, 'standardscaler': StandardScaler(), 'svc': SVC(probability=True), 'standardscaler__copy': True, 'standardscaler__with_mean': True, 'standardscaler__with_std': True, 'svc__C': 1.0, 'svc__break_ties': False, 'svc__cache_size': 200, 'svc__class_weight': None, 'svc__coef0': 0.0, 'svc__decision_function_shape': 'ovr', 'svc__degree': 3, 'svc__gamma': 'scale', 'svc__kernel': 'rbf', 'svc__max_iter': -1, 'svc__probability': True, 'svc__random_state': None, 'svc__shrinking': True, 'svc__tol': 0.001, 'svc__verbose': False}\n",
      "Hiperparámetros del estimador base 'lr':\n",
      "{'C': 1.0, 'class_weight': None, 'dual': False, 'fit_intercept': True, 'intercept_scaling': 1, 'l1_ratio': None, 'max_iter': 100, 'multi_class': 'auto', 'n_jobs': None, 'penalty': 'l2', 'random_state': None, 'solver': 'lbfgs', 'tol': 0.0001, 'verbose': 0, 'warm_start': False}\n",
      "Hiperparámetros del estimador base 'dt':\n",
      "{'ccp_alpha': 0.0, 'class_weight': None, 'criterion': 'gini', 'max_depth': None, 'max_features': None, 'max_leaf_nodes': None, 'min_impurity_decrease': 0.0, 'min_samples_leaf': 1, 'min_samples_split': 2, 'min_weight_fraction_leaf': 0.0, 'random_state': None, 'splitter': 'best'}\n",
      "Hiperparámetros del estimador final:\n",
      "{'C': 1.0, 'class_weight': None, 'dual': False, 'fit_intercept': True, 'intercept_scaling': 1, 'l1_ratio': None, 'max_iter': 100, 'multi_class': 'auto', 'n_jobs': None, 'penalty': 'l2', 'random_state': None, 'solver': 'lbfgs', 'tol': 0.0001, 'verbose': 0, 'warm_start': False}\n"
     ]
    }
   ],
   "source": [
    "# Obtener los hiperparámetros de los estimadores base\n",
    "for name, estimator in clf.named_estimators_.items():\n",
    "    print(f\"Hiperparámetros del estimador base '{name}':\")\n",
    "    print(estimator.get_params())\n",
    "\n",
    "# Obtener los hiperparámetros del estimador final\n",
    "print(\"Hiperparámetros del estimador final:\")\n",
    "print(clf.final_estimator_.get_params())"
   ]
  },
  {
   "cell_type": "code",
   "execution_count": 37,
   "metadata": {},
   "outputs": [
    {
     "name": "stdout",
     "output_type": "stream",
     "text": [
      "Matthews Correlation Coefficient (MCC) of Stacking Classifier: 0.46920012563829894\n"
     ]
    }
   ],
   "source": [
    "# Definir los clasificadores base\n",
    "estimators = [ ('svc', make_pipeline(StandardScaler(), SVC(probability=True))), \n",
    "              ('lr', LogisticRegression()), ('dt', DecisionTreeClassifier()) ]\n",
    "\n",
    "# Definir el meta-clasificador\n",
    "clf = StackingClassifier(estimators=estimators, final_estimator=LogisticRegression(), cv=5 )\n",
    "\n",
    "clf.fit(X_train_es_fasttext_embeeding, y_train_es)\n",
    "y_pred = clf.predict(X_val_es_fasttext_embeeding)\n",
    "mcc = matthews_corrcoef(y_val_es, y_pred)\n",
    "print(f\"Matthews Correlation Coefficient (MCC) of Stacking Classifier:\", mcc)"
   ]
  },
  {
   "cell_type": "code",
   "execution_count": 38,
   "metadata": {},
   "outputs": [
    {
     "name": "stdout",
     "output_type": "stream",
     "text": [
      "Hiperparámetros del estimador base 'svc':\n",
      "{'memory': None, 'steps': [('standardscaler', StandardScaler()), ('svc', SVC(probability=True))], 'verbose': False, 'standardscaler': StandardScaler(), 'svc': SVC(probability=True), 'standardscaler__copy': True, 'standardscaler__with_mean': True, 'standardscaler__with_std': True, 'svc__C': 1.0, 'svc__break_ties': False, 'svc__cache_size': 200, 'svc__class_weight': None, 'svc__coef0': 0.0, 'svc__decision_function_shape': 'ovr', 'svc__degree': 3, 'svc__gamma': 'scale', 'svc__kernel': 'rbf', 'svc__max_iter': -1, 'svc__probability': True, 'svc__random_state': None, 'svc__shrinking': True, 'svc__tol': 0.001, 'svc__verbose': False}\n",
      "Hiperparámetros del estimador base 'lr':\n",
      "{'C': 1.0, 'class_weight': None, 'dual': False, 'fit_intercept': True, 'intercept_scaling': 1, 'l1_ratio': None, 'max_iter': 100, 'multi_class': 'auto', 'n_jobs': None, 'penalty': 'l2', 'random_state': None, 'solver': 'lbfgs', 'tol': 0.0001, 'verbose': 0, 'warm_start': False}\n",
      "Hiperparámetros del estimador base 'dt':\n",
      "{'ccp_alpha': 0.0, 'class_weight': None, 'criterion': 'gini', 'max_depth': None, 'max_features': None, 'max_leaf_nodes': None, 'min_impurity_decrease': 0.0, 'min_samples_leaf': 1, 'min_samples_split': 2, 'min_weight_fraction_leaf': 0.0, 'random_state': None, 'splitter': 'best'}\n",
      "Hiperparámetros del estimador final:\n",
      "{'C': 1.0, 'class_weight': None, 'dual': False, 'fit_intercept': True, 'intercept_scaling': 1, 'l1_ratio': None, 'max_iter': 100, 'multi_class': 'auto', 'n_jobs': None, 'penalty': 'l2', 'random_state': None, 'solver': 'lbfgs', 'tol': 0.0001, 'verbose': 0, 'warm_start': False}\n"
     ]
    }
   ],
   "source": [
    "# Obtener los hiperparámetros de los estimadores base\n",
    "for name, estimator in clf.named_estimators_.items():\n",
    "    print(f\"Hiperparámetros del estimador base '{name}':\")\n",
    "    print(estimator.get_params())\n",
    "\n",
    "# Obtener los hiperparámetros del estimador final\n",
    "print(\"Hiperparámetros del estimador final:\")\n",
    "print(clf.final_estimator_.get_params())"
   ]
  },
  {
   "cell_type": "code",
   "execution_count": 39,
   "metadata": {},
   "outputs": [
    {
     "name": "stdout",
     "output_type": "stream",
     "text": [
      "Matthews Correlation Coefficient (MCC) of Stacking Classifier: 0.5158144128839315\n"
     ]
    }
   ],
   "source": [
    "# Definir los clasificadores base\n",
    "estimators = [ ('svc', make_pipeline(StandardScaler(), SVC(probability=True))), \n",
    "              ('lr', LogisticRegression()), ('dt', DecisionTreeClassifier()) ]\n",
    "\n",
    "# Definir el meta-clasificador\n",
    "clf = StackingClassifier(estimators=estimators, final_estimator=LogisticRegression(), cv=5 )\n",
    "\n",
    "clf.fit(X_train_es_roberta_embedding, y_train_es)\n",
    "y_pred = clf.predict(X_val_es_roberta_embedding)\n",
    "mcc = matthews_corrcoef(y_val_es, y_pred)\n",
    "print(f\"Matthews Correlation Coefficient (MCC) of Stacking Classifier:\", mcc)"
   ]
  },
  {
   "cell_type": "code",
   "execution_count": 40,
   "metadata": {},
   "outputs": [
    {
     "name": "stdout",
     "output_type": "stream",
     "text": [
      "Hiperparámetros del estimador base 'svc':\n",
      "{'memory': None, 'steps': [('standardscaler', StandardScaler()), ('svc', SVC(probability=True))], 'verbose': False, 'standardscaler': StandardScaler(), 'svc': SVC(probability=True), 'standardscaler__copy': True, 'standardscaler__with_mean': True, 'standardscaler__with_std': True, 'svc__C': 1.0, 'svc__break_ties': False, 'svc__cache_size': 200, 'svc__class_weight': None, 'svc__coef0': 0.0, 'svc__decision_function_shape': 'ovr', 'svc__degree': 3, 'svc__gamma': 'scale', 'svc__kernel': 'rbf', 'svc__max_iter': -1, 'svc__probability': True, 'svc__random_state': None, 'svc__shrinking': True, 'svc__tol': 0.001, 'svc__verbose': False}\n",
      "Hiperparámetros del estimador base 'lr':\n",
      "{'C': 1.0, 'class_weight': None, 'dual': False, 'fit_intercept': True, 'intercept_scaling': 1, 'l1_ratio': None, 'max_iter': 100, 'multi_class': 'auto', 'n_jobs': None, 'penalty': 'l2', 'random_state': None, 'solver': 'lbfgs', 'tol': 0.0001, 'verbose': 0, 'warm_start': False}\n",
      "Hiperparámetros del estimador base 'dt':\n",
      "{'ccp_alpha': 0.0, 'class_weight': None, 'criterion': 'gini', 'max_depth': None, 'max_features': None, 'max_leaf_nodes': None, 'min_impurity_decrease': 0.0, 'min_samples_leaf': 1, 'min_samples_split': 2, 'min_weight_fraction_leaf': 0.0, 'random_state': None, 'splitter': 'best'}\n",
      "Hiperparámetros del estimador final:\n",
      "{'C': 1.0, 'class_weight': None, 'dual': False, 'fit_intercept': True, 'intercept_scaling': 1, 'l1_ratio': None, 'max_iter': 100, 'multi_class': 'auto', 'n_jobs': None, 'penalty': 'l2', 'random_state': None, 'solver': 'lbfgs', 'tol': 0.0001, 'verbose': 0, 'warm_start': False}\n"
     ]
    }
   ],
   "source": [
    "# Obtener los hiperparámetros de los estimadores base\n",
    "for name, estimator in clf.named_estimators_.items():\n",
    "    print(f\"Hiperparámetros del estimador base '{name}':\")\n",
    "    print(estimator.get_params())\n",
    "\n",
    "# Obtener los hiperparámetros del estimador final\n",
    "print(\"Hiperparámetros del estimador final:\")\n",
    "print(clf.final_estimator_.get_params())"
   ]
  },
  {
   "cell_type": "code",
   "execution_count": null,
   "metadata": {},
   "outputs": [],
   "source": []
  }
 ],
 "metadata": {
  "kernelspec": {
   "display_name": "Python 3",
   "language": "python",
   "name": "python3"
  },
  "language_info": {
   "codemirror_mode": {
    "name": "ipython",
    "version": 3
   },
   "file_extension": ".py",
   "mimetype": "text/x-python",
   "name": "python",
   "nbconvert_exporter": "python",
   "pygments_lexer": "ipython3",
   "version": "3.8.8"
  }
 },
 "nbformat": 4,
 "nbformat_minor": 2
}
